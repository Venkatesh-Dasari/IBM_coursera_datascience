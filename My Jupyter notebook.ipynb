{
    "cells": [
        {
            "metadata": {
                "collapsed": true
            },
            "cell_type": "markdown",
            "source": "# My Jupyter Notebook on IBM Watson Studio\n\n\n"
        },
        {
            "metadata": {},
            "cell_type": "markdown",
            "source": "## Venkatesh Dasari:\n\n"
        },
        {
            "metadata": {},
            "cell_type": "markdown",
            "source": "Hi, I am Venkatesh Dasari and I am happy to create my first Jupyter Notebook on IBM Watson Studio.\nHope you are doing great.\n\nI keep hearing the word data science from many of my friends from last on one or two years and finaly decided to dive in and learn what exactly data science is. I am happy to find this course on coursera and finaly i am here with happy learning."
        },
        {
            "metadata": {},
            "cell_type": "markdown",
            "source": "The following code tests the guass formula\n"
        },
        {
            "metadata": {},
            "cell_type": "code",
            "source": "def guass(n):\n    return (n*(n+1))/2\n\nguass(100)==sum(range(101))\n",
            "execution_count": 2,
            "outputs": [
                {
                    "output_type": "execute_result",
                    "execution_count": 2,
                    "data": {
                        "text/plain": "True"
                    },
                    "metadata": {}
                }
            ]
        },
        {
            "metadata": {},
            "cell_type": "markdown",
            "source": "- one\n- Two\n- Three\n- Four\n- Five"
        },
        {
            "metadata": {},
            "cell_type": "code",
            "source": "",
            "execution_count": null,
            "outputs": []
        }
    ],
    "metadata": {
        "kernelspec": {
            "name": "python3",
            "display_name": "Python 3.9",
            "language": "python"
        },
        "language_info": {
            "name": "python",
            "version": "3.9.7",
            "mimetype": "text/x-python",
            "codemirror_mode": {
                "name": "ipython",
                "version": 3
            },
            "pygments_lexer": "ipython3",
            "nbconvert_exporter": "python",
            "file_extension": ".py"
        }
    },
    "nbformat": 4,
    "nbformat_minor": 1
}